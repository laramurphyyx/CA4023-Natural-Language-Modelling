{
 "cells": [
  {
   "cell_type": "code",
   "execution_count": 20,
   "metadata": {},
   "outputs": [],
   "source": [
    "corpus = [\n",
    "    '<s> a b </s>',\n",
    "    '<s> b b </s>',\n",
    "    '<s> b a </s>',\n",
    "    '<s> a a </s>',\n",
    "]"
   ]
  },
  {
   "cell_type": "markdown",
   "metadata": {},
   "source": [
    "## Calculating Counts of Unigrams and Bigrams"
   ]
  },
  {
   "cell_type": "code",
   "execution_count": 21,
   "metadata": {},
   "outputs": [],
   "source": [
    "for sentence in range(0, len(corpus)):\n",
    "    corpus[sentence] = corpus[sentence].split()"
   ]
  },
  {
   "cell_type": "code",
   "execution_count": 26,
   "metadata": {},
   "outputs": [],
   "source": [
    "unigram_dict = {}"
   ]
  },
  {
   "cell_type": "code",
   "execution_count": 27,
   "metadata": {},
   "outputs": [],
   "source": [
    "# Unigram dictionary\n",
    "for sentence in corpus:\n",
    "    for unigram in sentence:\n",
    "        if unigram in unigram_dict:\n",
    "            unigram_dict[unigram] += 1\n",
    "        else:\n",
    "            unigram_dict[unigram] = 1"
   ]
  },
  {
   "cell_type": "code",
   "execution_count": 66,
   "metadata": {},
   "outputs": [
    {
     "data": {
      "text/plain": [
       "{'<s>': 4, 'a': 4, 'b': 4, '</s>': 4}"
      ]
     },
     "execution_count": 66,
     "metadata": {},
     "output_type": "execute_result"
    }
   ],
   "source": [
    "unigram_dict"
   ]
  },
  {
   "cell_type": "code",
   "execution_count": 35,
   "metadata": {},
   "outputs": [],
   "source": [
    "bigram_dict = {}"
   ]
  },
  {
   "cell_type": "code",
   "execution_count": 36,
   "metadata": {},
   "outputs": [],
   "source": [
    "# Bigram dictionary\n",
    "for sentence in corpus:\n",
    "    for position in range(1, len(sentence)):\n",
    "        if (sentence[position - 1], sentence[position]) in bigram_dict:\n",
    "            bigram_dict[(sentence[position - 1], sentence[position])] += 1\n",
    "        else:\n",
    "            bigram_dict[(sentence[position - 1], sentence[position])] = 1"
   ]
  },
  {
   "cell_type": "code",
   "execution_count": 37,
   "metadata": {},
   "outputs": [
    {
     "data": {
      "text/plain": [
       "{('<s>', 'a'): 2,\n",
       " ('a', 'b'): 1,\n",
       " ('b', '</s>'): 2,\n",
       " ('<s>', 'b'): 2,\n",
       " ('b', 'b'): 1,\n",
       " ('b', 'a'): 1,\n",
       " ('a', '</s>'): 2,\n",
       " ('a', 'a'): 1}"
      ]
     },
     "execution_count": 37,
     "metadata": {},
     "output_type": "execute_result"
    }
   ],
   "source": [
    "bigram_dict"
   ]
  },
  {
   "cell_type": "markdown",
   "metadata": {},
   "source": [
    "Could use a mix of a unigram and a bigram model.\n"
   ]
  },
  {
   "cell_type": "markdown",
   "metadata": {},
   "source": [
    "p('ab') = p('a') p('b' | 'a')\n",
    "\n",
    "p('b' | 'a') = # occurences of 'ab' / # occurences of a"
   ]
  },
  {
   "cell_type": "markdown",
   "metadata": {},
   "source": [
    "# Question 1 : Probability of '< s> b < /s>'"
   ]
  },
  {
   "cell_type": "code",
   "execution_count": 4,
   "metadata": {},
   "outputs": [],
   "source": [
    "question1 = '<s> b </s>'"
   ]
  },
  {
   "cell_type": "code",
   "execution_count": 6,
   "metadata": {},
   "outputs": [],
   "source": [
    "question1_list = question.split()"
   ]
  },
  {
   "cell_type": "code",
   "execution_count": 38,
   "metadata": {},
   "outputs": [],
   "source": [
    "# p(<s> b </s>) = p(<s>) p(b|<s>) p(<\\s>|b)"
   ]
  },
  {
   "cell_type": "code",
   "execution_count": 65,
   "metadata": {},
   "outputs": [
    {
     "name": "stdout",
     "output_type": "stream",
     "text": [
      "Probability up to <s> is 0.25\n",
      "Probability up to b is 0.125\n",
      "Probability up to </s> is 0.0625\n"
     ]
    }
   ],
   "source": [
    "probability = 1\n",
    "previous = None\n",
    "\n",
    "for unigram in question1_list:\n",
    "    if previous:\n",
    "        probability *= ( bigram_dict[(previous, unigram)] / unigram_dict[previous] )\n",
    "    else:\n",
    "        probability *= ( unigram_dict[unigram] / sum(unigram_dict.values()) )\n",
    "    print(\"Probability up to \" + unigram + \" is \" + str(probability))\n",
    "    previous = unigram"
   ]
  },
  {
   "cell_type": "code",
   "execution_count": 71,
   "metadata": {},
   "outputs": [
    {
     "name": "stdout",
     "output_type": "stream",
     "text": [
      "The probability of '<s> b </s>' is 6.25%\n"
     ]
    }
   ],
   "source": [
    "print(\"The probability of '\" + question1 + \"' is \" + str(probability*100) + \"%\")"
   ]
  },
  {
   "cell_type": "markdown",
   "metadata": {},
   "source": [
    "Might have to add log probabilities instead of multiplying regular probabilities"
   ]
  },
  {
   "cell_type": "markdown",
   "metadata": {},
   "source": [
    "## Question 2 : Probability of '< s> a < /s>'"
   ]
  },
  {
   "cell_type": "code",
   "execution_count": 72,
   "metadata": {},
   "outputs": [],
   "source": [
    "question2 = '<s> a </s>'\n",
    "question2_list = question2.split()"
   ]
  },
  {
   "cell_type": "code",
   "execution_count": 74,
   "metadata": {},
   "outputs": [
    {
     "name": "stdout",
     "output_type": "stream",
     "text": [
      "Probability up to <s> is 0.25\n",
      "Probability up to a is 0.125\n",
      "Probability up to </s> is 0.0625\n"
     ]
    }
   ],
   "source": [
    "probability = 1\n",
    "previous = None\n",
    "\n",
    "for unigram in question2_list:\n",
    "    if previous:\n",
    "        probability *= ( bigram_dict[(previous, unigram)] / unigram_dict[previous] )\n",
    "    else:\n",
    "        probability *= ( unigram_dict[unigram] / sum(unigram_dict.values()) )\n",
    "    print(\"Probability up to \" + unigram + \" is \" + str(probability))\n",
    "    previous = unigram"
   ]
  },
  {
   "cell_type": "code",
   "execution_count": 75,
   "metadata": {},
   "outputs": [
    {
     "name": "stdout",
     "output_type": "stream",
     "text": [
      "The probability of '<s> a </s>' is 6.25%\n"
     ]
    }
   ],
   "source": [
    "print(\"The probability of '\" + question2 + \"' is \" + str(probability*100) + \"%\")"
   ]
  },
  {
   "cell_type": "markdown",
   "metadata": {},
   "source": [
    "## Question 3 : Probability of '< s> a b < /s>'"
   ]
  },
  {
   "cell_type": "code",
   "execution_count": 76,
   "metadata": {},
   "outputs": [],
   "source": [
    "question3 = '<s> a b </s>'\n",
    "question3_list = question3.split()"
   ]
  },
  {
   "cell_type": "code",
   "execution_count": 78,
   "metadata": {},
   "outputs": [
    {
     "name": "stdout",
     "output_type": "stream",
     "text": [
      "Probability up to <s> is 0.25\n",
      "Probability up to a is 0.125\n",
      "Probability up to b is 0.03125\n",
      "Probability up to </s> is 0.015625\n"
     ]
    }
   ],
   "source": [
    "probability = 1\n",
    "previous = None\n",
    "\n",
    "for unigram in question3_list:\n",
    "    if previous:\n",
    "        probability *= ( bigram_dict[(previous, unigram)] / unigram_dict[previous] )\n",
    "    else:\n",
    "        probability *= ( unigram_dict[unigram] / sum(unigram_dict.values()) )\n",
    "    print(\"Probability up to \" + unigram + \" is \" + str(probability))\n",
    "    previous = unigram"
   ]
  },
  {
   "cell_type": "code",
   "execution_count": 79,
   "metadata": {},
   "outputs": [
    {
     "name": "stdout",
     "output_type": "stream",
     "text": [
      "The probability of '<s> a b </s>' is 1.5625%\n"
     ]
    }
   ],
   "source": [
    "print(\"The probability of '\" + question3 + \"' is \" + str(probability*100) + \"%\")"
   ]
  },
  {
   "cell_type": "markdown",
   "metadata": {},
   "source": [
    "## Question 4 : Probability of '< s> a a < /s>'"
   ]
  },
  {
   "cell_type": "code",
   "execution_count": 80,
   "metadata": {},
   "outputs": [],
   "source": [
    "question4 = '<s> a a </s>'\n",
    "question4_list = question4.split()"
   ]
  },
  {
   "cell_type": "code",
   "execution_count": 81,
   "metadata": {},
   "outputs": [
    {
     "name": "stdout",
     "output_type": "stream",
     "text": [
      "Probability up to <s> is 0.25\n",
      "Probability up to a is 0.125\n",
      "Probability up to a is 0.03125\n",
      "Probability up to </s> is 0.015625\n"
     ]
    }
   ],
   "source": [
    "probability = 1\n",
    "previous = None\n",
    "\n",
    "for unigram in question4_list:\n",
    "    if previous:\n",
    "        probability *= ( bigram_dict[(previous, unigram)] / unigram_dict[previous] )\n",
    "    else:\n",
    "        probability *= ( unigram_dict[unigram] / sum(unigram_dict.values()) )\n",
    "    print(\"Probability up to \" + unigram + \" is \" + str(probability))\n",
    "    previous = unigram"
   ]
  },
  {
   "cell_type": "code",
   "execution_count": 82,
   "metadata": {},
   "outputs": [
    {
     "name": "stdout",
     "output_type": "stream",
     "text": [
      "The probability of '<s> a a </s>' is 1.5625%\n"
     ]
    }
   ],
   "source": [
    "print(\"The probability of '\" + question4 + \"' is \" + str(probability*100) + \"%\")"
   ]
  },
  {
   "cell_type": "markdown",
   "metadata": {},
   "source": [
    "## Question 5 : Probability of '< s> a b a < /s>'"
   ]
  },
  {
   "cell_type": "code",
   "execution_count": 83,
   "metadata": {},
   "outputs": [],
   "source": [
    "question5 = '<s> a b a </s>'\n",
    "question5_list = question5.split()"
   ]
  },
  {
   "cell_type": "code",
   "execution_count": 84,
   "metadata": {},
   "outputs": [
    {
     "name": "stdout",
     "output_type": "stream",
     "text": [
      "Probability up to <s> is 0.25\n",
      "Probability up to a is 0.125\n",
      "Probability up to b is 0.03125\n",
      "Probability up to a is 0.0078125\n",
      "Probability up to </s> is 0.00390625\n"
     ]
    }
   ],
   "source": [
    "probability = 1\n",
    "previous = None\n",
    "\n",
    "for unigram in question5_list:\n",
    "    if previous:\n",
    "        probability *= ( bigram_dict[(previous, unigram)] / unigram_dict[previous] )\n",
    "    else:\n",
    "        probability *= ( unigram_dict[unigram] / sum(unigram_dict.values()) )\n",
    "    print(\"Probability up to \" + unigram + \" is \" + str(probability))\n",
    "    previous = unigram"
   ]
  },
  {
   "cell_type": "code",
   "execution_count": 85,
   "metadata": {},
   "outputs": [
    {
     "name": "stdout",
     "output_type": "stream",
     "text": [
      "The probability of '<s> a b a </s>' is 0.390625%\n"
     ]
    }
   ],
   "source": [
    "print(\"The probability of '\" + question5 + \"' is \" + str(probability*100) + \"%\")"
   ]
  },
  {
   "cell_type": "code",
   "execution_count": null,
   "metadata": {},
   "outputs": [],
   "source": []
  }
 ],
 "metadata": {
  "kernelspec": {
   "display_name": "Python 3",
   "language": "python",
   "name": "python3"
  },
  "language_info": {
   "codemirror_mode": {
    "name": "ipython",
    "version": 3
   },
   "file_extension": ".py",
   "mimetype": "text/x-python",
   "name": "python",
   "nbconvert_exporter": "python",
   "pygments_lexer": "ipython3",
   "version": "3.7.4"
  }
 },
 "nbformat": 4,
 "nbformat_minor": 2
}
