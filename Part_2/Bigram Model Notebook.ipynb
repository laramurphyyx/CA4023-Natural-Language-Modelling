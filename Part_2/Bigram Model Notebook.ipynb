{
 "cells": [
  {
   "cell_type": "markdown",
   "metadata": {},
   "source": [
    "# Bigram Model Workings"
   ]
  },
  {
   "cell_type": "code",
   "execution_count": 1,
   "metadata": {},
   "outputs": [],
   "source": [
    "corpus = [\n",
    "    '<s> a b </s>',\n",
    "    '<s> b b </s>',\n",
    "    '<s> b a </s>',\n",
    "    '<s> a a </s>',\n",
    "]"
   ]
  },
  {
   "cell_type": "markdown",
   "metadata": {},
   "source": [
    "## Calculating Counts of Unigrams and Bigrams"
   ]
  },
  {
   "cell_type": "code",
   "execution_count": 2,
   "metadata": {},
   "outputs": [],
   "source": [
    "for sentence in range(0, len(corpus)):\n",
    "    corpus[sentence] = corpus[sentence].split()"
   ]
  },
  {
   "cell_type": "code",
   "execution_count": 3,
   "metadata": {},
   "outputs": [],
   "source": [
    "# Unigram dictionary\n",
    "unigram_dict = {}\n",
    "for sentence in corpus:\n",
    "    for unigram in sentence:\n",
    "        if unigram in unigram_dict:\n",
    "            unigram_dict[unigram] += 1\n",
    "        else:\n",
    "            unigram_dict[unigram] = 1"
   ]
  },
  {
   "cell_type": "code",
   "execution_count": 4,
   "metadata": {},
   "outputs": [],
   "source": [
    "# Bigram dictionary\n",
    "bigram_dict = {}\n",
    "for sentence in corpus:\n",
    "    for position in range(1, len(sentence)):\n",
    "        if (sentence[position - 1], sentence[position]) in bigram_dict:\n",
    "            bigram_dict[(sentence[position - 1], sentence[position])] += 1\n",
    "        else:\n",
    "            bigram_dict[(sentence[position - 1], sentence[position])] = 1"
   ]
  },
  {
   "cell_type": "markdown",
   "metadata": {},
   "source": [
    "The probability of a string 'ab' can be calculated using:\n",
    "\n",
    "$$\n",
    "P(\\text{'ab'}) = P(\\text{'a'})P(\\text{'b'}|\\text{'a'})\n",
    "$$"
   ]
  },
  {
   "cell_type": "markdown",
   "metadata": {},
   "source": [
    "The term P('b'|'a') can also be represented as:\n",
    "\n",
    "$$\n",
    "P(\\text{'b'}|\\text{'a'}) = \\frac{\\text{number of occurences of 'ab'}}{\\text{number of occurences of 'a'}}\n",
    "$$"
   ]
  },
  {
   "cell_type": "markdown",
   "metadata": {},
   "source": [
    "This formula should be easy to calculate as we have the number of occurences for all unigrams and bigrams."
   ]
  },
  {
   "cell_type": "markdown",
   "metadata": {},
   "source": [
    "# Question 1 : Probability of '< s> b < /s>'"
   ]
  },
  {
   "cell_type": "code",
   "execution_count": 5,
   "metadata": {},
   "outputs": [],
   "source": [
    "question1 = '<s> b </s>'\n",
    "question1_list = question1.split()"
   ]
  },
  {
   "cell_type": "code",
   "execution_count": 6,
   "metadata": {},
   "outputs": [
    {
     "name": "stdout",
     "output_type": "stream",
     "text": [
      "The probability of '<s> b </s>' is 6.25%\n"
     ]
    }
   ],
   "source": [
    "probability = 1\n",
    "previous = None\n",
    "\n",
    "for unigram in question1_list:\n",
    "    if previous:\n",
    "        probability *= ( bigram_dict[(previous, unigram)] / unigram_dict[previous] )\n",
    "    else:\n",
    "        probability *= ( unigram_dict[unigram] / sum(unigram_dict.values()) )\n",
    "    previous = unigram\n",
    "\n",
    "print(\"The probability of '\" + question1 + \"' is \" + str(probability*100) + \"%\")"
   ]
  },
  {
   "cell_type": "markdown",
   "metadata": {},
   "source": [
    "## Question 2 : Probability of '< s> a < /s>'"
   ]
  },
  {
   "cell_type": "code",
   "execution_count": 7,
   "metadata": {},
   "outputs": [],
   "source": [
    "question2 = '<s> a </s>'\n",
    "question2_list = question2.split()"
   ]
  },
  {
   "cell_type": "code",
   "execution_count": 8,
   "metadata": {},
   "outputs": [
    {
     "name": "stdout",
     "output_type": "stream",
     "text": [
      "The probability of '<s> a </s>' is 6.25%\n"
     ]
    }
   ],
   "source": [
    "probability = 1\n",
    "previous = None\n",
    "\n",
    "for unigram in question2_list:\n",
    "    if previous:\n",
    "        probability *= ( bigram_dict[(previous, unigram)] / unigram_dict[previous] )\n",
    "    else:\n",
    "        probability *= ( unigram_dict[unigram] / sum(unigram_dict.values()) )\n",
    "    previous = unigram\n",
    "\n",
    "print(\"The probability of '\" + question2 + \"' is \" + str(probability*100) + \"%\")"
   ]
  },
  {
   "cell_type": "markdown",
   "metadata": {},
   "source": [
    "## Question 3 : Probability of '< s> a b < /s>'"
   ]
  },
  {
   "cell_type": "code",
   "execution_count": 9,
   "metadata": {},
   "outputs": [],
   "source": [
    "question3 = '<s> a b </s>'\n",
    "question3_list = question3.split()"
   ]
  },
  {
   "cell_type": "code",
   "execution_count": 10,
   "metadata": {},
   "outputs": [
    {
     "name": "stdout",
     "output_type": "stream",
     "text": [
      "The probability of '<s> a b </s>' is 1.5625%\n"
     ]
    }
   ],
   "source": [
    "probability = 1\n",
    "previous = None\n",
    "\n",
    "for unigram in question3_list:\n",
    "    if previous:\n",
    "        probability *= ( bigram_dict[(previous, unigram)] / unigram_dict[previous] )\n",
    "    else:\n",
    "        probability *= ( unigram_dict[unigram] / sum(unigram_dict.values()) )\n",
    "    previous = unigram\n",
    "\n",
    "print(\"The probability of '\" + question3 + \"' is \" + str(probability*100) + \"%\")"
   ]
  },
  {
   "cell_type": "markdown",
   "metadata": {},
   "source": [
    "## Question 4 : Probability of '< s> a a < /s>'"
   ]
  },
  {
   "cell_type": "code",
   "execution_count": 11,
   "metadata": {},
   "outputs": [],
   "source": [
    "question4 = '<s> a a </s>'\n",
    "question4_list = question4.split()"
   ]
  },
  {
   "cell_type": "code",
   "execution_count": 12,
   "metadata": {},
   "outputs": [
    {
     "name": "stdout",
     "output_type": "stream",
     "text": [
      "The probability of '<s> a a </s>' is 1.5625%\n"
     ]
    }
   ],
   "source": [
    "probability = 1\n",
    "previous = None\n",
    "\n",
    "for unigram in question4_list:\n",
    "    if previous:\n",
    "        probability *= ( bigram_dict[(previous, unigram)] / unigram_dict[previous] )\n",
    "    else:\n",
    "        probability *= ( unigram_dict[unigram] / sum(unigram_dict.values()) )\n",
    "    previous = unigram\n",
    "\n",
    "print(\"The probability of '\" + question4 + \"' is \" + str(probability*100) + \"%\")"
   ]
  },
  {
   "cell_type": "markdown",
   "metadata": {},
   "source": [
    "## Question 5 : Probability of '< s> a b a < /s>'"
   ]
  },
  {
   "cell_type": "code",
   "execution_count": 13,
   "metadata": {},
   "outputs": [],
   "source": [
    "question5 = '<s> a b a </s>'\n",
    "question5_list = question5.split()"
   ]
  },
  {
   "cell_type": "code",
   "execution_count": 14,
   "metadata": {},
   "outputs": [
    {
     "name": "stdout",
     "output_type": "stream",
     "text": [
      "The probability of '<s> a b a </s>' is 0.390625%\n"
     ]
    }
   ],
   "source": [
    "probability = 1\n",
    "previous = None\n",
    "\n",
    "for unigram in question5_list:\n",
    "    if previous:\n",
    "        probability *= ( bigram_dict[(previous, unigram)] / unigram_dict[previous] )\n",
    "    else:\n",
    "        probability *= ( unigram_dict[unigram] / sum(unigram_dict.values()) )\n",
    "    previous = unigram\n",
    "\n",
    "print(\"The probability of '\" + question5 + \"' is \" + str(probability*100) + \"%\")"
   ]
  }
 ],
 "metadata": {
  "kernelspec": {
   "display_name": "Python 3",
   "language": "python",
   "name": "python3"
  },
  "language_info": {
   "codemirror_mode": {
    "name": "ipython",
    "version": 3
   },
   "file_extension": ".py",
   "mimetype": "text/x-python",
   "name": "python",
   "nbconvert_exporter": "python",
   "pygments_lexer": "ipython3",
   "version": "3.7.4"
  }
 },
 "nbformat": 4,
 "nbformat_minor": 2
}
