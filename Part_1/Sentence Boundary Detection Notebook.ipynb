{
 "cells": [
  {
   "cell_type": "markdown",
   "metadata": {},
   "source": [
    "Write a program that splits a document into sentences. The input to your program should be\n",
    "a file containing text. The output should be a new file with each sentence from the first file on\n",
    "a separate line."
   ]
  },
  {
   "cell_type": "code",
   "execution_count": 1,
   "metadata": {},
   "outputs": [],
   "source": [
    "# Assume document is the example document\n",
    "\n",
    "document = \"\"\"With all the fawning end-of-the-year kudos currently circulating, it’s easy to forget that a sizable number of actual bad movies came out in 2012. Well, consider this a refresher! From failed blockbuster tentpoles (”Battleship”) to would-be hilarious comedies (“The Watch”) to lame scare-challenged horror flicks (“The Apparition”) to...uh, well, pretty much anything involving Mr. Tyler Perry, there’s no doubt that the last 366 days have come with a heaping helping of truly heinous cinematic stinkers. So what better time for an accounting of the year’s most outrageous big-screen abominations than on the eve of the coming apocalypse?\"\"\""
   ]
  },
  {
   "cell_type": "markdown",
   "metadata": {},
   "source": [
    "There are three common ways to end a sentence:\n",
    "* Ending with a full stop (eg. 'I went to work.')\n",
    "* Ending with a question mark (eg. 'Did you go to work?')\n",
    "* Ending with an exclamation mark (eg. 'I finally finished my work!')\n"
   ]
  },
  {
   "cell_type": "markdown",
   "metadata": {},
   "source": [
    "Assuming that a full stop, a question mark or an exclamation mark <u>always</u> represents the end of a sentence does not yield a great performance. \n",
    "\n",
    "There are some cases in which the full stop does not mark the end of a sentence:\n",
    "* When a full stop is used after an abbreviation (eg. 'I think <u>Dr.</u> Tom is over there.')\n",
    "* When a full stop is used more than once as part of an abbreviation (e.g.)\n",
    "* When a full stop is used as a decimal point for a number (eg. 'There's only 1.2GB storage left')\n",
    "* When full stops are used as ellipsis points (eg. 'I'm not sure about that... maybe?')\n",
    "* When dates are formatted with full stops (eg. 'My appointment is on 14.12.2021.')\n",
    "* When making reference to file names (eg. 'Details can be found in README.txt.')\n",
    "* When making reference to URLs (eg. 'Find out more at www.website.com.')\n",
    "\n",
    "This can be further complicated when considering splitting sentences like:\n",
    "* Sentences that use a combination of punctuation (eg. 'Oh my God!?')\n",
    "* Quotations that span over multiple statements (eg. 'I said, \"She's too young. She can't get married\".')"
   ]
  },
  {
   "cell_type": "markdown",
   "metadata": {},
   "source": [
    "## Generic Sentence Boundary Detection (Splitting on punctuation)"
   ]
  },
  {
   "cell_type": "code",
   "execution_count": 45,
   "metadata": {},
   "outputs": [
    {
     "name": "stdout",
     "output_type": "stream",
     "text": [
      "With all the fawning end-of-the-year kudos currently circulating, it’s easy to forget that a sizable number of actual bad movies came out in 2012.\n",
      " Well, consider this a refresher!\n",
      " From failed blockbuster tentpoles (”Battleship”) to would-be hilarious comedies (“The Watch”) to lame scare-challenged horror flicks (“The Apparition”) to.\n",
      ".\n",
      ".\n",
      "uh, well, pretty much anything involving Mr.\n",
      " Tyler Perry, there’s no doubt that the last 366 days have come with a heaping helping of truly heinous cinematic stinkers.\n"
     ]
    }
   ],
   "source": [
    "## create an initial empty list that will contain each sentence\n",
    "sentences = []\n",
    "placer = 0\n",
    "\n",
    "for character in range(0, len(document)-1):\n",
    "    if document[character] in ['!', '.', '?']:\n",
    "        sentences.append(document[placer:character + 1])\n",
    "        placer = character + 1\n",
    "\n",
    "for sentence in sentences:\n",
    "    print(sentence)"
   ]
  },
  {
   "cell_type": "markdown",
   "metadata": {},
   "source": [
    "## Sentence Boundary Detection - Round 1 (Removing ellipsis points)"
   ]
  },
  {
   "cell_type": "code",
   "execution_count": null,
   "metadata": {},
   "outputs": [],
   "source": [
    "# If there is no punctuation before it and no punctuation after it then mark it as a placer"
   ]
  },
  {
   "cell_type": "code",
   "execution_count": 64,
   "metadata": {},
   "outputs": [],
   "source": [
    "sentences = []\n",
    "placer = 0\n",
    "\n",
    "for character in range(0, len(document)-1):\n",
    "    if document[character] in ['!', '.', '?']:\n",
    "        if character + 1 >= len(document):\n",
    "            sentences.append(document[placer:])\n",
    "        elif document[character - 1] == '.' or document[character + 1] == '.':\n",
    "            continue\n",
    "        else:\n",
    "            sentences.append(document[placer:character + 1])\n",
    "            placer = character + 1"
   ]
  },
  {
   "cell_type": "code",
   "execution_count": 65,
   "metadata": {},
   "outputs": [
    {
     "name": "stdout",
     "output_type": "stream",
     "text": [
      "With all the fawning end-of-the-year kudos currently circulating, it’s easy to forget that a sizable number of actual bad movies came out in 2012.\n",
      " Well, consider this a refresher!\n",
      " From failed blockbuster tentpoles (”Battleship”) to would-be hilarious comedies (“The Watch”) to lame scare-challenged horror flicks (“The Apparition”) to...uh, well, pretty much anything involving Mr.\n",
      " Tyler Perry, there’s no doubt that the last 366 days have come with a heaping helping of truly heinous cinematic stinkers.\n",
      "['With all the fawning end-of-the-year kudos currently circulating, it’s easy to forget that a sizable number of actual bad movies came out in 2012.', ' Well, consider this a refresher!', ' From failed blockbuster tentpoles (”Battleship”) to would-be hilarious comedies (“The Watch”) to lame scare-challenged horror flicks (“The Apparition”) to...uh, well, pretty much anything involving Mr.', ' Tyler Perry, there’s no doubt that the last 366 days have come with a heaping helping of truly heinous cinematic stinkers.']\n"
     ]
    }
   ],
   "source": [
    "for sentence in sentences:\n",
    "    print(sentence)\n",
    "    \n",
    "print(sentences)"
   ]
  },
  {
   "cell_type": "markdown",
   "metadata": {},
   "source": [
    "## Sentence Boundary Detection - Round 2 (Removing mid-abbreviation full stops)"
   ]
  },
  {
   "cell_type": "code",
   "execution_count": 66,
   "metadata": {},
   "outputs": [],
   "source": [
    "sentences = []\n",
    "placer = 0\n",
    "\n",
    "for character in range(0, len(document)-1):\n",
    "    if document[character] in ['!', '.', '?']:\n",
    "        if character + 1 >= len(document):\n",
    "            sentences.append(document[placer:])\n",
    "        elif document[character + 1].isalpha():\n",
    "            continue\n",
    "        else:\n",
    "            sentences.append(document[placer:character + 1])\n",
    "            placer = character + 1"
   ]
  },
  {
   "cell_type": "code",
   "execution_count": 67,
   "metadata": {},
   "outputs": [
    {
     "name": "stdout",
     "output_type": "stream",
     "text": [
      "With all the fawning end-of-the-year kudos currently circulating, it’s easy to forget that a sizable number of actual bad movies came out in 2012.\n",
      " Well, consider this a refresher!\n",
      " From failed blockbuster tentpoles (”Battleship”) to would-be hilarious comedies (“The Watch”) to lame scare-challenged horror flicks (“The Apparition”) to.\n",
      ".\n",
      ".uh, well, pretty much anything involving Mr.\n",
      " Tyler Perry, there’s no doubt that the last 366 days have come with a heaping helping of truly heinous cinematic stinkers.\n",
      "['With all the fawning end-of-the-year kudos currently circulating, it’s easy to forget that a sizable number of actual bad movies came out in 2012.', ' Well, consider this a refresher!', ' From failed blockbuster tentpoles (”Battleship”) to would-be hilarious comedies (“The Watch”) to lame scare-challenged horror flicks (“The Apparition”) to.', '.', '.uh, well, pretty much anything involving Mr.', ' Tyler Perry, there’s no doubt that the last 366 days have come with a heaping helping of truly heinous cinematic stinkers.']\n"
     ]
    }
   ],
   "source": [
    "for sentence in sentences:\n",
    "    print(sentence)\n",
    "    \n",
    "print(sentences)"
   ]
  },
  {
   "cell_type": "markdown",
   "metadata": {},
   "source": [
    "# Using Regular Expressions"
   ]
  },
  {
   "cell_type": "code",
   "execution_count": 2,
   "metadata": {},
   "outputs": [],
   "source": [
    "import re"
   ]
  },
  {
   "cell_type": "code",
   "execution_count": 3,
   "metadata": {},
   "outputs": [
    {
     "data": {
      "text/plain": [
       "['With all the fawning end-of-the-year kudos currently circulating, it’s easy to forget that a sizable number of actual bad movies came out in 2012',\n",
       " 'Well, consider this a refresher',\n",
       " 'From failed blockbuster tentpoles (”Battleship”) to would-be hilarious comedies (“The Watch”) to lame scare-challenged horror flicks (“The Apparition”) to...uh, well, pretty much anything involving Mr',\n",
       " 'Tyler Perry, there’s no doubt that the last 366 days have come with a heaping helping of truly heinous cinematic stinkers',\n",
       " 'So what better time for an accounting of the year’s most outrageous big-screen abominations than on the eve of the coming apocalypse?']"
      ]
     },
     "execution_count": 3,
     "metadata": {},
     "output_type": "execute_result"
    }
   ],
   "source": [
    "re.split('[.?!] ', document)"
   ]
  },
  {
   "cell_type": "code",
   "execution_count": 11,
   "metadata": {},
   "outputs": [
    {
     "data": {
      "text/plain": [
       "['With all the fawning end-of-the-year kudos currently circulating, it’s easy to forget that a sizable number of actual bad movies came out in 2012. Well, consider this a refresher! From failed blockbuster tentpoles (”Battleship”) to would-be hilarious comedies (“The Watch”) to lame scare-challenged horror flicks (“The Apparition”) to...uh, well, pretty much anything involving Mr. Tyler Perry, there’s no doubt that the last 366 days have come with a heaping helping of truly heinous cinematic stinkers. So what better time for an accounting of the year’s most outrageous big-screen abominations than on the eve of the coming apocalypse?']"
      ]
     },
     "execution_count": 11,
     "metadata": {},
     "output_type": "execute_result"
    }
   ],
   "source": [
    "re.split('\\.\\.+', document) # this splits it on the ellpsis points"
   ]
  },
  {
   "cell_type": "code",
   "execution_count": 13,
   "metadata": {},
   "outputs": [],
   "source": [
    "abbreviations = set(['Mr.', 'Mrs.', 'Miss.',\n",
    "                    'Dr.', 'Prof.'])"
   ]
  },
  {
   "cell_type": "code",
   "execution_count": 19,
   "metadata": {},
   "outputs": [
    {
     "data": {
      "text/plain": [
       "0"
      ]
     },
     "execution_count": 19,
     "metadata": {},
     "output_type": "execute_result"
    }
   ],
   "source": [
    "len(re.findall(\"i\", \"hello\"))"
   ]
  },
  {
   "cell_type": "code",
   "execution_count": 23,
   "metadata": {},
   "outputs": [
    {
     "data": {
      "text/plain": [
       "['...']"
      ]
     },
     "execution_count": 23,
     "metadata": {},
     "output_type": "execute_result"
    }
   ],
   "source": [
    "re.findall(\"\\.\\.+\", document)"
   ]
  },
  {
   "cell_type": "code",
   "execution_count": 27,
   "metadata": {},
   "outputs": [
    {
     "name": "stdout",
     "output_type": "stream",
     "text": [
      "['With all the fawning end-of-the-year kudos currently circulating, it’s easy to forget that a sizable number of actual bad movies came out in 2012.', 'Well, consider this a refresher!', 'From failed blockbuster tentpoles (”Battleship”) to would-be hilarious comedies (“The Watch”) to lame scare-challenged horror flicks (“The Apparition”) to...uh, well, pretty much anything involving Mr. Tyler Perry, there’s no doubt that the last 366 days have come with a heaping helping of truly heinous cinematic stinkers.', 'So what better time for an accounting of the year’s most outrageous big-screen abominations than on the eve of the coming apocalypse?', '']\n"
     ]
    }
   ],
   "source": [
    "# from https://stackoverflow.com/questions/38831457/regex-splitting-strings-at-full-stops-unless-its-part-of-an-honorific\n",
    "\n",
    "def split_sentences(document):\n",
    "    \n",
    "    keywords = set(['Mr.', 'Mrs.', 'Miss.',\n",
    "                         'Dr.', 'Prof.'])\n",
    "    \n",
    "    sentences = []\n",
    "    words = document.split(' ')\n",
    "\n",
    "    for word in words:\n",
    "        \n",
    "        # If there's a period that is part of an ellipsis, this is ignored\n",
    "        if len(re.findall(\"\\.\\.+\", word)):\n",
    "            sentences.append(word + ' ')\n",
    "            continue\n",
    "            \n",
    "        # If there's a period...\n",
    "        elif '.' in word:\n",
    "            \n",
    "            # If the period is not at the end of the word, this is ignored\n",
    "            if word[-1] != '.':\n",
    "                sentences.append(word + ' ')\n",
    "                continue\n",
    "                \n",
    "            # If the period is not part of the abbreviations, this is identified as sentence boundary\n",
    "            elif word not in keywords:\n",
    "                sentences.append(word + '\\n')\n",
    "                continue\n",
    "        \n",
    "        # If there is an exclamation mark or a question mark, this is identified as a sentence boundary\n",
    "        elif '!' in word or '?' in word:\n",
    "            sentences.append(word + '\\n')\n",
    "            continue\n",
    "        \n",
    "        # If the word has no ellipsis, or other punctuation as listed above, then it is ignored\n",
    "        sentences.append(word + ' ')\n",
    "\n",
    "    # Returning a list of the different sentences\n",
    "    return ''.join(sentences).split(\"\\n\")\n",
    "\n",
    "print(split_sentences(document))"
   ]
  },
  {
   "cell_type": "code",
   "execution_count": null,
   "metadata": {},
   "outputs": [],
   "source": []
  },
  {
   "cell_type": "code",
   "execution_count": null,
   "metadata": {},
   "outputs": [],
   "source": [
    "# helpful link: https://stackoverflow.com/questions/25735644/python-regex-for-splitting-text-into-sentences-sentence-tokenizing"
   ]
  },
  {
   "cell_type": "code",
   "execution_count": null,
   "metadata": {},
   "outputs": [],
   "source": []
  },
  {
   "cell_type": "code",
   "execution_count": null,
   "metadata": {},
   "outputs": [],
   "source": []
  },
  {
   "cell_type": "code",
   "execution_count": 35,
   "metadata": {},
   "outputs": [],
   "source": [
    "import sys\n",
    "import re\n",
    "\n",
    "##\n",
    "## Accessing the text file provided in the command line\n",
    "##\n",
    "\n",
    "# filename = sys.argv[1]\n",
    "file = open('./Example.txt', \"r\", encoding=\"utf8\")\n",
    "contents = file.read()\n"
   ]
  },
  {
   "cell_type": "code",
   "execution_count": 36,
   "metadata": {},
   "outputs": [
    {
     "data": {
      "text/plain": [
       "'With all the fawning end-of-the-year kudos currently circulating, it’s easy to forget that a sizable number of actual bad movies came out in 2012. Well, consider this a refresher! From failed blockbuster tentpoles (”Battleship”) to would-be hilarious comedies (“The Watch”) to lame scare-challenged horror flicks (“The Apparition”) to...uh, well, pretty much anything involving Mr. Tyler Perry, there’s no doubt that the last 366 days have come with a heaping helping of truly heinous cinematic stinkers. So what better time for an accounting of the year’s most outrageous big-screen abominations than on the eve of the coming apocalypse?'"
      ]
     },
     "execution_count": 36,
     "metadata": {},
     "output_type": "execute_result"
    }
   ],
   "source": [
    "contents"
   ]
  },
  {
   "cell_type": "code",
   "execution_count": null,
   "metadata": {},
   "outputs": [],
   "source": []
  }
 ],
 "metadata": {
  "kernelspec": {
   "display_name": "Python 3",
   "language": "python",
   "name": "python3"
  },
  "language_info": {
   "codemirror_mode": {
    "name": "ipython",
    "version": 3
   },
   "file_extension": ".py",
   "mimetype": "text/x-python",
   "name": "python",
   "nbconvert_exporter": "python",
   "pygments_lexer": "ipython3",
   "version": "3.7.4"
  }
 },
 "nbformat": 4,
 "nbformat_minor": 2
}
