{
 "cells": [
  {
   "cell_type": "markdown",
   "metadata": {},
   "source": [
    "Write a program that splits a document into sentences. The input to your program should be\n",
    "a file containing text. The output should be a new file with each sentence from the first file on\n",
    "a separate line."
   ]
  },
  {
   "cell_type": "code",
   "execution_count": 42,
   "metadata": {},
   "outputs": [],
   "source": [
    "# Assume document is the example document\n",
    "\n",
    "document = \"\"\"With all the fawning end-of-the-year kudos currently circulating, it’s easy to forget that a sizable number of actual bad movies came out in 2012. Well, consider this a refresher! From failed blockbuster tentpoles (”Battleship”) to would-be hilarious comedies (“The Watch”) to lame scare-challenged horror flicks (“The Apparition”) to...uh, well, pretty much anything involving Mr. Tyler Perry, there’s no doubt that the last 366 days have come with a heaping helping of truly heinous cinematic stinkers. So what better time for an accounting of the year’s most outrageous big-screen abominations than on the eve of the coming apocalypse?\"\"\""
   ]
  },
  {
   "cell_type": "markdown",
   "metadata": {},
   "source": [
    "There are three common ways to end a sentence:\n",
    "* Ending with a full stop (eg. 'I went to work.')\n",
    "* Ending with a question mark (eg. 'Did you go to work?')\n",
    "* Ending with an exclamation mark (eg. 'I finally finished my work!')\n"
   ]
  },
  {
   "cell_type": "markdown",
   "metadata": {},
   "source": [
    "Assuming that a full stop, a question mark or an exclamation mark <u>always</u> represents the end of a sentence does not yield a great performance. \n",
    "\n",
    "There are some cases in which the full stop does not mark the end of a sentence:\n",
    "* When a full stop is used after an abbreviation (eg. 'I think <u>Dr.</u> Tom is over there.')\n",
    "* When a full stop is used more than once as part of an abbreviation (e.g.)\n",
    "* When a full stop is used as a decimal point for a number (eg. 'There's only 1.2GB storage left')\n",
    "* When full stops are used as ellipsis points (eg. 'I'm not sure about that... maybe?')\n",
    "* When dates are formatted with full stops (eg. 'My appointment is on 14.12.2021.')\n",
    "* When making reference to file names (eg. 'Details can be found in README.txt.')\n",
    "* When making reference to URLs (eg. 'Find out more at www.website.com.')\n",
    "\n",
    "This can be further complicated when considering splitting sentences like:\n",
    "* Sentences that use a combination of punctuation (eg. 'Oh my God!?')\n",
    "* Quotations that span over multiple statements (eg. 'I said, \"She's too young. She can't get married\".')"
   ]
  },
  {
   "cell_type": "markdown",
   "metadata": {},
   "source": [
    "## Generic Sentence Boundary Detection (Splitting on punctuation)"
   ]
  },
  {
   "cell_type": "code",
   "execution_count": 45,
   "metadata": {},
   "outputs": [
    {
     "name": "stdout",
     "output_type": "stream",
     "text": [
      "With all the fawning end-of-the-year kudos currently circulating, it’s easy to forget that a sizable number of actual bad movies came out in 2012.\n",
      " Well, consider this a refresher!\n",
      " From failed blockbuster tentpoles (”Battleship”) to would-be hilarious comedies (“The Watch”) to lame scare-challenged horror flicks (“The Apparition”) to.\n",
      ".\n",
      ".\n",
      "uh, well, pretty much anything involving Mr.\n",
      " Tyler Perry, there’s no doubt that the last 366 days have come with a heaping helping of truly heinous cinematic stinkers.\n"
     ]
    }
   ],
   "source": [
    "## create an initial empty list that will contain each sentence\n",
    "sentences = []\n",
    "placer = 0\n",
    "\n",
    "for character in range(0, len(document)-1):\n",
    "    if document[character] in ['!', '.', '?']:\n",
    "        sentences.append(document[placer:character + 1])\n",
    "        placer = character + 1\n",
    "\n",
    "for sentence in sentences:\n",
    "    print(sentence)"
   ]
  },
  {
   "cell_type": "code",
   "execution_count": 17,
   "metadata": {},
   "outputs": [
    {
     "ename": "SyntaxError",
     "evalue": "invalid syntax (<ipython-input-17-211f7e4d42bd>, line 1)",
     "output_type": "error",
     "traceback": [
      "\u001b[1;36m  File \u001b[1;32m\"<ipython-input-17-211f7e4d42bd>\"\u001b[1;36m, line \u001b[1;32m1\u001b[0m\n\u001b[1;33m    helpful link: https://bmcmedinformdecismak.biomedcentral.com/articles/10.1186/1472-6947-15-S2-S4\u001b[0m\n\u001b[1;37m               ^\u001b[0m\n\u001b[1;31mSyntaxError\u001b[0m\u001b[1;31m:\u001b[0m invalid syntax\n"
     ]
    }
   ],
   "source": [
    "helpful link: https://bmcmedinformdecismak.biomedcentral.com/articles/10.1186/1472-6947-15-S2-S4"
   ]
  },
  {
   "cell_type": "markdown",
   "metadata": {},
   "source": [
    "## Sentence Boundary Detection - Round 1 (Removing ellipsis points)"
   ]
  },
  {
   "cell_type": "code",
   "execution_count": null,
   "metadata": {},
   "outputs": [],
   "source": [
    "# If there is no punctuation before it and no punctuation after it then mark it as a placer"
   ]
  },
  {
   "cell_type": "code",
   "execution_count": 64,
   "metadata": {},
   "outputs": [],
   "source": [
    "sentences = []\n",
    "placer = 0\n",
    "\n",
    "for character in range(0, len(document)-1):\n",
    "    if document[character] in ['!', '.', '?']:\n",
    "        if character + 1 >= len(document):\n",
    "            sentences.append(document[placer:])\n",
    "        elif document[character - 1] == '.' or document[character + 1] == '.':\n",
    "            continue\n",
    "        else:\n",
    "            sentences.append(document[placer:character + 1])\n",
    "            placer = character + 1"
   ]
  },
  {
   "cell_type": "code",
   "execution_count": 65,
   "metadata": {},
   "outputs": [
    {
     "name": "stdout",
     "output_type": "stream",
     "text": [
      "With all the fawning end-of-the-year kudos currently circulating, it’s easy to forget that a sizable number of actual bad movies came out in 2012.\n",
      " Well, consider this a refresher!\n",
      " From failed blockbuster tentpoles (”Battleship”) to would-be hilarious comedies (“The Watch”) to lame scare-challenged horror flicks (“The Apparition”) to...uh, well, pretty much anything involving Mr.\n",
      " Tyler Perry, there’s no doubt that the last 366 days have come with a heaping helping of truly heinous cinematic stinkers.\n",
      "['With all the fawning end-of-the-year kudos currently circulating, it’s easy to forget that a sizable number of actual bad movies came out in 2012.', ' Well, consider this a refresher!', ' From failed blockbuster tentpoles (”Battleship”) to would-be hilarious comedies (“The Watch”) to lame scare-challenged horror flicks (“The Apparition”) to...uh, well, pretty much anything involving Mr.', ' Tyler Perry, there’s no doubt that the last 366 days have come with a heaping helping of truly heinous cinematic stinkers.']\n"
     ]
    }
   ],
   "source": [
    "for sentence in sentences:\n",
    "    print(sentence)\n",
    "    \n",
    "print(sentences)"
   ]
  },
  {
   "cell_type": "markdown",
   "metadata": {},
   "source": [
    "## Sentence Boundary Detection - Round 2 (Removing mid-abbreviation full stops)"
   ]
  },
  {
   "cell_type": "code",
   "execution_count": 66,
   "metadata": {},
   "outputs": [],
   "source": [
    "sentences = []\n",
    "placer = 0\n",
    "\n",
    "for character in range(0, len(document)-1):\n",
    "    if document[character] in ['!', '.', '?']:\n",
    "        if character + 1 >= len(document):\n",
    "            sentences.append(document[placer:])\n",
    "        elif document[character + 1].isalpha():\n",
    "            continue\n",
    "        else:\n",
    "            sentences.append(document[placer:character + 1])\n",
    "            placer = character + 1"
   ]
  },
  {
   "cell_type": "code",
   "execution_count": 67,
   "metadata": {},
   "outputs": [
    {
     "name": "stdout",
     "output_type": "stream",
     "text": [
      "With all the fawning end-of-the-year kudos currently circulating, it’s easy to forget that a sizable number of actual bad movies came out in 2012.\n",
      " Well, consider this a refresher!\n",
      " From failed blockbuster tentpoles (”Battleship”) to would-be hilarious comedies (“The Watch”) to lame scare-challenged horror flicks (“The Apparition”) to.\n",
      ".\n",
      ".uh, well, pretty much anything involving Mr.\n",
      " Tyler Perry, there’s no doubt that the last 366 days have come with a heaping helping of truly heinous cinematic stinkers.\n",
      "['With all the fawning end-of-the-year kudos currently circulating, it’s easy to forget that a sizable number of actual bad movies came out in 2012.', ' Well, consider this a refresher!', ' From failed blockbuster tentpoles (”Battleship”) to would-be hilarious comedies (“The Watch”) to lame scare-challenged horror flicks (“The Apparition”) to.', '.', '.uh, well, pretty much anything involving Mr.', ' Tyler Perry, there’s no doubt that the last 366 days have come with a heaping helping of truly heinous cinematic stinkers.']\n"
     ]
    }
   ],
   "source": [
    "for sentence in sentences:\n",
    "    print(sentence)\n",
    "    \n",
    "print(sentences)"
   ]
  },
  {
   "cell_type": "code",
   "execution_count": null,
   "metadata": {},
   "outputs": [],
   "source": []
  }
 ],
 "metadata": {
  "kernelspec": {
   "display_name": "Python 3",
   "language": "python",
   "name": "python3"
  },
  "language_info": {
   "codemirror_mode": {
    "name": "ipython",
    "version": 3
   },
   "file_extension": ".py",
   "mimetype": "text/x-python",
   "name": "python",
   "nbconvert_exporter": "python",
   "pygments_lexer": "ipython3",
   "version": "3.7.4"
  }
 },
 "nbformat": 4,
 "nbformat_minor": 2
}
