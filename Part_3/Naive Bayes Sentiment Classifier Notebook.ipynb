{
 "cells": [
  {
   "cell_type": "code",
   "execution_count": 78,
   "metadata": {},
   "outputs": [],
   "source": [
    "import pandas as pd\n",
    "from urllib.request import urlretrieve\n",
    "import zipfile\n",
    "import os"
   ]
  },
  {
   "cell_type": "markdown",
   "metadata": {},
   "source": [
    "Step 1. Create mega-document for all negative reviews and another for all positive reviews by concatenating them"
   ]
  },
  {
   "cell_type": "code",
   "execution_count": 39,
   "metadata": {},
   "outputs": [],
   "source": [
    "neg_directory = '../Part_3/review_polarity/txt_sentoken/neg'\n",
    "negative_reviews_list = []\n",
    "\n",
    "for filename in os.listdir(neg_directory):\n",
    "    file_path = os.path.join(neg_directory, filename)\n",
    "    file = open(file_path, \"r\")\n",
    "    negative_reviews_list.append(file.read())"
   ]
  },
  {
   "cell_type": "code",
   "execution_count": 46,
   "metadata": {},
   "outputs": [],
   "source": [
    "pos_directory = '../Part_3/review_polarity/txt_sentoken/pos'\n",
    "positive_reviews_list = []\n",
    "\n",
    "for filename in os.listdir(pos_directory):\n",
    "    file_path = os.path.join(pos_directory, filename)\n",
    "    file = open(file_path, \"r\")\n",
    "    positive_reviews_list.append(file.read())"
   ]
  },
  {
   "cell_type": "code",
   "execution_count": 104,
   "metadata": {},
   "outputs": [],
   "source": [
    "pos_directory = '../Part_3/review_polarity/txt_sentoken/pos'\n",
    "positive_reviews_list = []\n",
    "\n",
    "for filename in os.listdir(pos_directory):\n",
    "    file_path = pos_directory + \"/\" + filename\n",
    "    file = open(file_path, \"r\")\n",
    "    for line in file.readlines():\n",
    "        positive_reviews_string += line\n",
    "        positive_reviews_list.append(line.rstrip())"
   ]
  },
  {
   "cell_type": "code",
   "execution_count": 109,
   "metadata": {},
   "outputs": [],
   "source": [
    "otherstring = ''\n",
    "listt = []\n",
    "file = open('../Part_3/review_polarity/txt_sentoken/pos/cv000_29590.txt', \"r\")\n",
    "listt.append(file.read())"
   ]
  },
  {
   "cell_type": "code",
   "execution_count": null,
   "metadata": {},
   "outputs": [],
   "source": []
  }
 ],
 "metadata": {
  "kernelspec": {
   "display_name": "Python 3",
   "language": "python",
   "name": "python3"
  },
  "language_info": {
   "codemirror_mode": {
    "name": "ipython",
    "version": 3
   },
   "file_extension": ".py",
   "mimetype": "text/x-python",
   "name": "python",
   "nbconvert_exporter": "python",
   "pygments_lexer": "ipython3",
   "version": "3.7.4"
  }
 },
 "nbformat": 4,
 "nbformat_minor": 2
}
