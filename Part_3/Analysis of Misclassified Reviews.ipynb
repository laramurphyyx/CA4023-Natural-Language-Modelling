{
 "cells": [
  {
   "cell_type": "markdown",
   "metadata": {},
   "source": [
    "# Part 1: Identifying Misclassified Reviews"
   ]
  },
  {
   "cell_type": "markdown",
   "metadata": {},
   "source": [
    "### Importing and Concatenating Reviews"
   ]
  },
  {
   "cell_type": "code",
   "execution_count": 18,
   "metadata": {},
   "outputs": [],
   "source": [
    "import numpy as np\n",
    "import os\n",
    "import random\n",
    "import math"
   ]
  },
  {
   "cell_type": "code",
   "execution_count": 38,
   "metadata": {},
   "outputs": [],
   "source": [
    "pos_directory = '../Part_3/review_polarity/txt_sentoken/pos'\n",
    "positive_reviews_list = []\n",
    "\n",
    "for filename in os.listdir(pos_directory):\n",
    "    file_path = pos_directory + \"/\" + filename\n",
    "    file = open(file_path, \"r\")\n",
    "    review = []\n",
    "    for line in file.readlines():\n",
    "        review.append(line.rstrip())\n",
    "    positive_reviews_list.append(\" \".join(review))"
   ]
  },
  {
   "cell_type": "code",
   "execution_count": 39,
   "metadata": {},
   "outputs": [],
   "source": [
    "neg_directory = '../Part_3/review_polarity/txt_sentoken/neg'\n",
    "negative_reviews_list = []\n",
    "\n",
    "for filename in os.listdir(neg_directory):\n",
    "    file_path = neg_directory + \"/\" + filename\n",
    "    file = open(file_path, \"r\")\n",
    "    review = []\n",
    "    for line in file.readlines():\n",
    "        review.append(line.rstrip())\n",
    "    negative_reviews_list.append(\" \".join(review))"
   ]
  },
  {
   "cell_type": "markdown",
   "metadata": {},
   "source": [
    "### Creating Model Functions"
   ]
  },
  {
   "cell_type": "code",
   "execution_count": 42,
   "metadata": {},
   "outputs": [],
   "source": [
    "def create_frequency_dictionary(list_of_reviews):\n",
    "    review_dictionary = {}\n",
    "    for review in list_of_reviews:\n",
    "        words = review.split()\n",
    "        for word in words:\n",
    "            if word in review_dictionary:\n",
    "                review_dictionary[word] += 1\n",
    "            else:\n",
    "                review_dictionary[word] = 1\n",
    "    return review_dictionary"
   ]
  },
  {
   "cell_type": "code",
   "execution_count": 43,
   "metadata": {},
   "outputs": [],
   "source": [
    "def result_for_class(review, frequency_dictionary):\n",
    "    punctuation = ['.', ',', ':', '\"', '&', '?', '-', '(', ')', \"'\", '/']\n",
    "    class_result = math.log(0.5)\n",
    "    for word in review.split():\n",
    "        if word in punctuation:\n",
    "            continue\n",
    "        elif word not in frequency_dictionary:\n",
    "            class_result += math.log(1 / (sum(frequency_dictionary.values()) + 1))\n",
    "        else:\n",
    "            class_result += math.log((frequency_dictionary[word] + 1) / (sum(frequency_dictionary.values()) + 1))\n",
    "    return class_result"
   ]
  },
  {
   "cell_type": "markdown",
   "metadata": {},
   "source": [
    "### Splitting into Training and Testing Data and Assigning Frequency Dictionary"
   ]
  },
  {
   "cell_type": "code",
   "execution_count": 44,
   "metadata": {},
   "outputs": [],
   "source": [
    "negative_training_data = negative_reviews_list[:900]\n",
    "positive_training_data = positive_reviews_list[:900]\n",
    "negative_test_data = negative_reviews_list[900:]\n",
    "positive_test_data = positive_reviews_list[900:]"
   ]
  },
  {
   "cell_type": "code",
   "execution_count": 45,
   "metadata": {},
   "outputs": [],
   "source": [
    "negative_frequency_dictionary = create_frequency_dictionary(negative_training_data)\n",
    "positive_frequency_dictionary = create_frequency_dictionary(positive_training_data)"
   ]
  },
  {
   "cell_type": "markdown",
   "metadata": {},
   "source": [
    "### Creating Lists for Misclassified Reviews"
   ]
  },
  {
   "cell_type": "code",
   "execution_count": 48,
   "metadata": {},
   "outputs": [],
   "source": [
    "positive_reviews_misclassified = []\n",
    "\n",
    "for review in positive_test_data:\n",
    "    positive_result = result_for_class(review, positive_frequency_dictionary)\n",
    "    negative_result = result_for_class(review, negative_frequency_dictionary)\n",
    "    if positive_result < negative_result:\n",
    "        positive_reviews_misclassified.append(review)"
   ]
  },
  {
   "cell_type": "code",
   "execution_count": 49,
   "metadata": {},
   "outputs": [],
   "source": [
    "negative_reviews_misclassified = []\n",
    "\n",
    "for review in negative_test_data:\n",
    "    positive_result = result_for_class(review, positive_frequency_dictionary)\n",
    "    negative_result = result_for_class(review, negative_frequency_dictionary)\n",
    "    if positive_result > negative_result:\n",
    "        negative_reviews_misclassified.append(review)"
   ]
  },
  {
   "cell_type": "markdown",
   "metadata": {},
   "source": [
    "# Part 2: Analysing Misclassification of Positive Reviews"
   ]
  },
  {
   "cell_type": "markdown",
   "metadata": {},
   "source": [
    "### Deciding which 5 reviews to analyse"
   ]
  },
  {
   "cell_type": "code",
   "execution_count": 53,
   "metadata": {},
   "outputs": [
    {
     "data": {
      "text/plain": [
       "[10, 12, 2, 18, 3]"
      ]
     },
     "execution_count": 53,
     "metadata": {},
     "output_type": "execute_result"
    }
   ],
   "source": [
    "positive_reviews_sample_ids = random.sample(list(np.arange(0,len(positive_reviews_misclassified))), 5)\n",
    "positive_reviews_sample_ids"
   ]
  },
  {
   "cell_type": "markdown",
   "metadata": {},
   "source": [
    "## Part 2.1: Analysing Positive Review #12"
   ]
  },
  {
   "cell_type": "markdown",
   "metadata": {},
   "source": [
    "To begin the analysis, we will investigate the tokens with the highest count in the review (and therefore the most influence) and see if these words appear more in the positive or negative dictionary."
   ]
  },
  {
   "cell_type": "code",
   "execution_count": 54,
   "metadata": {},
   "outputs": [],
   "source": [
    "review12_dict = create_frequency_dictionary([positive_reviews_misclassified[12]])"
   ]
  },
  {
   "cell_type": "code",
   "execution_count": 55,
   "metadata": {},
   "outputs": [],
   "source": [
    "# sorted(review_dict1.items(), key=lambda x: x[1], reverse=True)[:20]"
   ]
  },
  {
   "cell_type": "markdown",
   "metadata": {},
   "source": [
    "The top 20 most frequent words in this first review are:\n",
    "\n",
    "1. ('.', 46) -> punctuation\n",
    "\n",
    "2. ('the', 36) -> determiner\n",
    " \n",
    "3. (',', 23) -> punctuation\n",
    " \n",
    "4. ('to', 19) -> particle\n",
    " \n",
    "5. ('and', 16) -> conjunction\n",
    " \n",
    "6. ('in', 14) -> preposition\n",
    " \n",
    "7. ('a', 13) -> determiner\n",
    " \n",
    "8. ('of', 11) -> preposition\n",
    " \n",
    "9. ('\"', 10) -> punctuation\n",
    " \n",
    "10. ('(', 9) -> punctuation\n",
    " \n",
    "11. (')', 9) -> punctuation\n",
    " \n",
    "12. ('that', 9) -> determiner/conjunction\n",
    " \n",
    "13. ('is', 9) -> verb\n",
    " \n",
    "14. ('film', 8) -> noun\n",
    " \n",
    "15. ('as', 8) -> conjunction/preposition\n",
    " \n",
    "16. ('car', 7) -> noun\n",
    " \n",
    "17. ('his', 7) -> pronoun\n",
    " \n",
    "18. ('just', 7) -> adjective/adverb\n",
    " \n",
    "19. ('memphis', 6) -> noun\n",
    " \n",
    "20. ('have', 6) -> verb"
   ]
  },
  {
   "cell_type": "markdown",
   "metadata": {},
   "source": [
    "This is expected, as punctuation and determiners/particles/prepositions etc. are more common than nouns or adjectives. \n",
    "\n",
    "We will have a look at a few of the most common nouns, verbs, adjectives and adverbs."
   ]
  },
  {
   "cell_type": "markdown",
   "metadata": {},
   "source": [
    "* ('is', 9)\n",
    "* ('film', 8)\n",
    "* ('car', 7)\n",
    "* ('just', 7)\n",
    "* ('memphis', 6)\n",
    "* ('have', 6)"
   ]
  },
  {
   "cell_type": "code",
   "execution_count": 62,
   "metadata": {},
   "outputs": [
    {
     "name": "stdout",
     "output_type": "stream",
     "text": [
      "is appears in the positive dictionary 12549 times\n",
      "is appears in the negative dictionary 9952 times\n",
      "film appears in the positive dictionary 4376 times\n",
      "film appears in the negative dictionary 3598 times\n",
      "car appears in the positive dictionary 112 times\n",
      "car appears in the negative dictionary 165 times\n",
      "just appears in the positive dictionary 1197 times\n",
      "just appears in the negative dictionary 1390 times\n",
      "memphis appears in the positive dictionary 0 times\n",
      "memphis appears in the negative dictionary 17 times\n",
      "have appears in the positive dictionary 1992 times\n",
      "have appears in the negative dictionary 2408 times\n"
     ]
    }
   ],
   "source": [
    "common_words = ['is', 'film', 'car', 'just', 'memphis', 'have']\n",
    "\n",
    "for word in common_words:\n",
    "    if word in positive_frequency_dictionary:\n",
    "        print(word + \" appears in the positive dictionary \" + str(positive_frequency_dictionary[word]) + \" times\")\n",
    "    else:\n",
    "        print(word + \" appears in the positive dictionary 0 times\")\n",
    "    if word in negative_frequency_dictionary:\n",
    "        print(word + \" appears in the negative dictionary \" + str(negative_frequency_dictionary[word]) + \" times\")\n",
    "    else: print(word + \" appears in the negative dictionary 0 times\")"
   ]
  },
  {
   "cell_type": "code",
   "execution_count": null,
   "metadata": {},
   "outputs": [],
   "source": []
  }
 ],
 "metadata": {
  "kernelspec": {
   "display_name": "Python 3",
   "language": "python",
   "name": "python3"
  },
  "language_info": {
   "codemirror_mode": {
    "name": "ipython",
    "version": 3
   },
   "file_extension": ".py",
   "mimetype": "text/x-python",
   "name": "python",
   "nbconvert_exporter": "python",
   "pygments_lexer": "ipython3",
   "version": "3.7.4"
  }
 },
 "nbformat": 4,
 "nbformat_minor": 2
}
